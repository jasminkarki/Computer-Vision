{
 "cells": [
  {
   "cell_type": "code",
   "execution_count": 211,
   "metadata": {
    "colab": {},
    "colab_type": "code",
    "id": "w9tbeQE8TTUc"
   },
   "outputs": [],
   "source": [
    "import os\n",
    "import pandas as pd\n",
    "import numpy as np\n",
    "import matplotlib.pyplot as plt\n",
    "from skimage import feature, io\n",
    "from skimage import io\n",
    "\n",
    "#To directly use the function\n",
    "from skimage.feature import hog\n",
    "from skimage.transform import rescale,resize\n",
    "from skimage.color import rgb2grey\n"
   ]
  },
  {
   "cell_type": "markdown",
   "metadata": {
    "colab_type": "text",
    "id": "peigBKBwTTUj"
   },
   "source": [
    "## Import data"
   ]
  },
  {
   "cell_type": "code",
   "execution_count": 212,
   "metadata": {
    "colab": {},
    "colab_type": "code",
    "id": "m6qCmU5VTTUk",
    "outputId": "95fb4e79-0023-446d-eae2-373eb1aa4baf",
    "scrolled": true
   },
   "outputs": [
    {
     "data": {
      "text/html": [
       "<div>\n",
       "<style scoped>\n",
       "    .dataframe tbody tr th:only-of-type {\n",
       "        vertical-align: middle;\n",
       "    }\n",
       "\n",
       "    .dataframe tbody tr th {\n",
       "        vertical-align: top;\n",
       "    }\n",
       "\n",
       "    .dataframe thead th {\n",
       "        text-align: right;\n",
       "    }\n",
       "</style>\n",
       "<table border=\"1\" class=\"dataframe\">\n",
       "  <thead>\n",
       "    <tr style=\"text-align: right;\">\n",
       "      <th></th>\n",
       "      <th>genus</th>\n",
       "    </tr>\n",
       "    <tr>\n",
       "      <th>id</th>\n",
       "      <th></th>\n",
       "    </tr>\n",
       "  </thead>\n",
       "  <tbody>\n",
       "    <tr>\n",
       "      <th>520</th>\n",
       "      <td>1.0</td>\n",
       "    </tr>\n",
       "    <tr>\n",
       "      <th>3800</th>\n",
       "      <td>1.0</td>\n",
       "    </tr>\n",
       "    <tr>\n",
       "      <th>3289</th>\n",
       "      <td>1.0</td>\n",
       "    </tr>\n",
       "    <tr>\n",
       "      <th>2695</th>\n",
       "      <td>1.0</td>\n",
       "    </tr>\n",
       "    <tr>\n",
       "      <th>4922</th>\n",
       "      <td>1.0</td>\n",
       "    </tr>\n",
       "  </tbody>\n",
       "</table>\n",
       "</div>"
      ],
      "text/plain": [
       "      genus\n",
       "id         \n",
       "520     1.0\n",
       "3800    1.0\n",
       "3289    1.0\n",
       "2695    1.0\n",
       "4922    1.0"
      ]
     },
     "execution_count": 212,
     "metadata": {},
     "output_type": "execute_result"
    }
   ],
   "source": [
    "# Honey bee as 0.0\n",
    "# Bumble bee as 1.0\n",
    "\n",
    "labels = pd.read_csv('dataset/labels.csv', index_col=0)\n",
    "labels.head()"
   ]
  },
  {
   "cell_type": "code",
   "execution_count": 213,
   "metadata": {},
   "outputs": [
    {
     "name": "stdout",
     "output_type": "stream",
     "text": [
      "3142 827\n"
     ]
    }
   ],
   "source": [
    "print(len(labels[labels.genus==1.0]),len(labels[labels.genus==0.0]))"
   ]
  },
  {
   "cell_type": "code",
   "execution_count": 214,
   "metadata": {
    "colab": {},
    "colab_type": "code",
    "id": "PB9he5IQTTUr"
   },
   "outputs": [],
   "source": [
    "def get_image(row_id, root='dataset/images/'):\n",
    "    \n",
    "    filename = \"{}.jpg\".format(row_id)\n",
    "    file_path = os.path.join(root, filename)\n",
    "    img = io.imread(file_path)\n",
    "    \n",
    "    return np.array(img)"
   ]
  },
  {
   "cell_type": "markdown",
   "metadata": {},
   "source": [
    "### Set of bumblee bee 1.0"
   ]
  },
  {
   "cell_type": "code",
   "execution_count": 215,
   "metadata": {},
   "outputs": [],
   "source": [
    "positive_patches=[]\n",
    "\n",
    "for i in range(len(labels[labels.genus==1.0])):\n",
    "    bumblee_bee_row = labels[labels.genus==1.0].index[i]\n",
    "    bumblee_bee = get_image(bumblee_bee_row)\n",
    "    img_to_gray=rgb2grey(bumblee_bee)\n",
    "    img_to_gray = rescale(img_to_gray, 0.5) \n",
    "\n",
    "    positive_patches.append(img_to_gray)"
   ]
  },
  {
   "cell_type": "code",
   "execution_count": 217,
   "metadata": {},
   "outputs": [
    {
     "name": "stdout",
     "output_type": "stream",
     "text": [
      "3142\n"
     ]
    },
    {
     "data": {
      "text/plain": [
       "(100, 100)"
      ]
     },
     "execution_count": 217,
     "metadata": {},
     "output_type": "execute_result"
    }
   ],
   "source": [
    "print(len(positive_patches))\n",
    "positive_patches[0].shape"
   ]
  },
  {
   "cell_type": "markdown",
   "metadata": {},
   "source": [
    "### Set of Honeybee 0.0"
   ]
  },
  {
   "cell_type": "code",
   "execution_count": 218,
   "metadata": {},
   "outputs": [],
   "source": [
    "images=[]\n",
    "\n",
    "for i in range(len(labels[labels.genus==0.0])):\n",
    "    honey_bee_row = labels[labels.genus==0.0].index[i]\n",
    "    honey_bee = get_image(honey_bee_row)\n",
    "    img_to_gray=rgb2grey(honey_bee)\n",
    "    img_to_gray = rescale(img_to_gray, 0.5) \n",
    "    images.append(img_to_gray)\n",
    "images = np.asarray(images)\n",
    "# images=images.flatten()"
   ]
  },
  {
   "cell_type": "code",
   "execution_count": 219,
   "metadata": {},
   "outputs": [
    {
     "name": "stdout",
     "output_type": "stream",
     "text": [
      "(8270000,)\n"
     ]
    }
   ],
   "source": [
    "print(images.flatten().shape)"
   ]
  },
  {
   "cell_type": "code",
   "execution_count": 220,
   "metadata": {},
   "outputs": [
    {
     "name": "stdout",
     "output_type": "stream",
     "text": [
      "827\n"
     ]
    },
    {
     "data": {
      "text/plain": [
       "(100, 100)"
      ]
     },
     "execution_count": 220,
     "metadata": {},
     "output_type": "execute_result"
    }
   ],
   "source": [
    "print(len(images))\n",
    "images[0].shape"
   ]
  },
  {
   "cell_type": "code",
   "execution_count": 221,
   "metadata": {},
   "outputs": [],
   "source": [
    "def features(image):\n",
    "    # flatten three channel color image\n",
    "    color_features = image.flatten()\n",
    "#     print(color_features.shape)\n",
    "\n",
    "    # get HOG features from greyscale image\n",
    "    hog_features = hog(image, block_norm='L2-Hys', pixels_per_cell=(8,8))    \n",
    "#     print(hog_features.shape)\n",
    "    # combine color and hog features into a single array\n",
    "    flat_features = np.hstack((color_features, hog_features))\n",
    "    return flat_features"
   ]
  },
  {
   "cell_type": "code",
   "execution_count": 222,
   "metadata": {},
   "outputs": [],
   "source": [
    "bumblee_bee_features = features(positive_patches[0])\n"
   ]
  },
  {
   "cell_type": "code",
   "execution_count": 223,
   "metadata": {},
   "outputs": [
    {
     "name": "stdout",
     "output_type": "stream",
     "text": [
      "The array has shape: (18100,)\n"
     ]
    }
   ],
   "source": [
    "# print shape of bombus_features\n",
    "print('The array has shape:', bumblee_bee_features.shape)"
   ]
  },
  {
   "cell_type": "code",
   "execution_count": 224,
   "metadata": {},
   "outputs": [
    {
     "data": {
      "text/plain": [
       "(18100,)"
      ]
     },
     "execution_count": 224,
     "metadata": {},
     "output_type": "execute_result"
    }
   ],
   "source": [
    "single_features = features(positive_patches[0])\n",
    "single_features.shape"
   ]
  },
  {
   "cell_type": "code",
   "execution_count": 227,
   "metadata": {},
   "outputs": [],
   "source": [
    "def feature_matrix(array):\n",
    "    features_list = []\n",
    "    \n",
    "    for i in range(len(array)):\n",
    "        # get features for image\n",
    "        image_features = features(array[i])\n",
    "        features_list.append(image_features)\n",
    "        # convert list of arrays into a matrix\n",
    "        feature_matrix = np.array(features_list)\n",
    "    \n",
    "    return feature_matrix\n",
    "\n",
    "# run create_feature_matrix on our dataframe of images\n",
    "positive_feature_matrix = feature_matrix(positive_patches)\n",
    "negative_feature_matrix = feature_matrix(images)"
   ]
  },
  {
   "cell_type": "code",
   "execution_count": 228,
   "metadata": {},
   "outputs": [
    {
     "name": "stdout",
     "output_type": "stream",
     "text": [
      "(3142, 18100) (827, 18100)\n"
     ]
    }
   ],
   "source": [
    "print(positive_feature_matrix.shape, negative_feature_matrix.shape)"
   ]
  },
  {
   "cell_type": "code",
   "execution_count": 15,
   "metadata": {},
   "outputs": [],
   "source": [
    "positive_label=np.ones(len(positive_feature_matrix)).reshape(-1,1)\n",
    "negative_label=np.zeros(len(negative_feature_matrix)).reshape(-1,1)"
   ]
  },
  {
   "cell_type": "code",
   "execution_count": 16,
   "metadata": {},
   "outputs": [],
   "source": [
    "label_X=np.concatenate((positive_feature_matrix,negative_feature_matrix))\n",
    "label_y=np.concatenate((positive_label,negative_label))"
   ]
  },
  {
   "cell_type": "code",
   "execution_count": 17,
   "metadata": {},
   "outputs": [],
   "source": [
    "X=pd.DataFrame(label_X)\n",
    "y=pd.DataFrame(label_y)\n"
   ]
  },
  {
   "cell_type": "code",
   "execution_count": 18,
   "metadata": {},
   "outputs": [
    {
     "data": {
      "text/html": [
       "<div>\n",
       "<style scoped>\n",
       "    .dataframe tbody tr th:only-of-type {\n",
       "        vertical-align: middle;\n",
       "    }\n",
       "\n",
       "    .dataframe tbody tr th {\n",
       "        vertical-align: top;\n",
       "    }\n",
       "\n",
       "    .dataframe thead th {\n",
       "        text-align: right;\n",
       "    }\n",
       "</style>\n",
       "<table border=\"1\" class=\"dataframe\">\n",
       "  <thead>\n",
       "    <tr style=\"text-align: right;\">\n",
       "      <th></th>\n",
       "      <th>0</th>\n",
       "      <th>1</th>\n",
       "      <th>2</th>\n",
       "      <th>3</th>\n",
       "      <th>4</th>\n",
       "      <th>5</th>\n",
       "      <th>6</th>\n",
       "      <th>7</th>\n",
       "      <th>8</th>\n",
       "      <th>9</th>\n",
       "      <th>...</th>\n",
       "      <th>18090</th>\n",
       "      <th>18091</th>\n",
       "      <th>18092</th>\n",
       "      <th>18093</th>\n",
       "      <th>18094</th>\n",
       "      <th>18095</th>\n",
       "      <th>18096</th>\n",
       "      <th>18097</th>\n",
       "      <th>18098</th>\n",
       "      <th>18099</th>\n",
       "    </tr>\n",
       "  </thead>\n",
       "  <tbody>\n",
       "    <tr>\n",
       "      <th>0</th>\n",
       "      <td>0.439885</td>\n",
       "      <td>0.438162</td>\n",
       "      <td>0.424706</td>\n",
       "      <td>0.430746</td>\n",
       "      <td>0.458318</td>\n",
       "      <td>0.473671</td>\n",
       "      <td>0.476753</td>\n",
       "      <td>0.468016</td>\n",
       "      <td>0.461158</td>\n",
       "      <td>0.467136</td>\n",
       "      <td>...</td>\n",
       "      <td>0.149028</td>\n",
       "      <td>0.043389</td>\n",
       "      <td>0.131780</td>\n",
       "      <td>0.088498</td>\n",
       "      <td>0.082028</td>\n",
       "      <td>0.117894</td>\n",
       "      <td>0.108705</td>\n",
       "      <td>0.048627</td>\n",
       "      <td>0.073933</td>\n",
       "      <td>0.062441</td>\n",
       "    </tr>\n",
       "    <tr>\n",
       "      <th>1</th>\n",
       "      <td>0.172878</td>\n",
       "      <td>0.172201</td>\n",
       "      <td>0.173932</td>\n",
       "      <td>0.177733</td>\n",
       "      <td>0.184924</td>\n",
       "      <td>0.182511</td>\n",
       "      <td>0.178126</td>\n",
       "      <td>0.254360</td>\n",
       "      <td>0.554185</td>\n",
       "      <td>0.787118</td>\n",
       "      <td>...</td>\n",
       "      <td>0.030135</td>\n",
       "      <td>0.034661</td>\n",
       "      <td>0.024311</td>\n",
       "      <td>0.018938</td>\n",
       "      <td>0.102725</td>\n",
       "      <td>0.249643</td>\n",
       "      <td>0.045737</td>\n",
       "      <td>0.048102</td>\n",
       "      <td>0.000000</td>\n",
       "      <td>0.030866</td>\n",
       "    </tr>\n",
       "    <tr>\n",
       "      <th>2</th>\n",
       "      <td>0.679896</td>\n",
       "      <td>0.691023</td>\n",
       "      <td>0.581526</td>\n",
       "      <td>0.452563</td>\n",
       "      <td>0.403145</td>\n",
       "      <td>0.374648</td>\n",
       "      <td>0.418351</td>\n",
       "      <td>0.485857</td>\n",
       "      <td>0.610514</td>\n",
       "      <td>0.659370</td>\n",
       "      <td>...</td>\n",
       "      <td>0.064710</td>\n",
       "      <td>0.000000</td>\n",
       "      <td>0.019262</td>\n",
       "      <td>0.171385</td>\n",
       "      <td>0.097012</td>\n",
       "      <td>0.027145</td>\n",
       "      <td>0.005075</td>\n",
       "      <td>0.005191</td>\n",
       "      <td>0.000000</td>\n",
       "      <td>0.000496</td>\n",
       "    </tr>\n",
       "    <tr>\n",
       "      <th>3</th>\n",
       "      <td>0.430422</td>\n",
       "      <td>0.428756</td>\n",
       "      <td>0.434860</td>\n",
       "      <td>0.441580</td>\n",
       "      <td>0.452389</td>\n",
       "      <td>0.456540</td>\n",
       "      <td>0.461079</td>\n",
       "      <td>0.461090</td>\n",
       "      <td>0.447555</td>\n",
       "      <td>0.434589</td>\n",
       "      <td>...</td>\n",
       "      <td>0.224119</td>\n",
       "      <td>0.091252</td>\n",
       "      <td>0.171947</td>\n",
       "      <td>0.124587</td>\n",
       "      <td>0.083243</td>\n",
       "      <td>0.035421</td>\n",
       "      <td>0.041093</td>\n",
       "      <td>0.045048</td>\n",
       "      <td>0.044490</td>\n",
       "      <td>0.068433</td>\n",
       "    </tr>\n",
       "    <tr>\n",
       "      <th>4</th>\n",
       "      <td>0.723147</td>\n",
       "      <td>0.697821</td>\n",
       "      <td>0.676790</td>\n",
       "      <td>0.651906</td>\n",
       "      <td>0.624277</td>\n",
       "      <td>0.619955</td>\n",
       "      <td>0.634736</td>\n",
       "      <td>0.658536</td>\n",
       "      <td>0.681113</td>\n",
       "      <td>0.699430</td>\n",
       "      <td>...</td>\n",
       "      <td>0.149668</td>\n",
       "      <td>0.211011</td>\n",
       "      <td>0.083375</td>\n",
       "      <td>0.048273</td>\n",
       "      <td>0.069840</td>\n",
       "      <td>0.021323</td>\n",
       "      <td>0.059668</td>\n",
       "      <td>0.131290</td>\n",
       "      <td>0.211011</td>\n",
       "      <td>0.079154</td>\n",
       "    </tr>\n",
       "    <tr>\n",
       "      <th>...</th>\n",
       "      <td>...</td>\n",
       "      <td>...</td>\n",
       "      <td>...</td>\n",
       "      <td>...</td>\n",
       "      <td>...</td>\n",
       "      <td>...</td>\n",
       "      <td>...</td>\n",
       "      <td>...</td>\n",
       "      <td>...</td>\n",
       "      <td>...</td>\n",
       "      <td>...</td>\n",
       "      <td>...</td>\n",
       "      <td>...</td>\n",
       "      <td>...</td>\n",
       "      <td>...</td>\n",
       "      <td>...</td>\n",
       "      <td>...</td>\n",
       "      <td>...</td>\n",
       "      <td>...</td>\n",
       "      <td>...</td>\n",
       "      <td>...</td>\n",
       "    </tr>\n",
       "    <tr>\n",
       "      <th>3964</th>\n",
       "      <td>0.312737</td>\n",
       "      <td>0.273857</td>\n",
       "      <td>0.266179</td>\n",
       "      <td>0.275038</td>\n",
       "      <td>0.263484</td>\n",
       "      <td>0.282415</td>\n",
       "      <td>0.429487</td>\n",
       "      <td>0.581594</td>\n",
       "      <td>0.481229</td>\n",
       "      <td>0.316782</td>\n",
       "      <td>...</td>\n",
       "      <td>0.039240</td>\n",
       "      <td>0.094688</td>\n",
       "      <td>0.041310</td>\n",
       "      <td>0.090983</td>\n",
       "      <td>0.233744</td>\n",
       "      <td>0.097240</td>\n",
       "      <td>0.063136</td>\n",
       "      <td>0.110155</td>\n",
       "      <td>0.067914</td>\n",
       "      <td>0.167053</td>\n",
       "    </tr>\n",
       "    <tr>\n",
       "      <th>3965</th>\n",
       "      <td>0.188288</td>\n",
       "      <td>0.228981</td>\n",
       "      <td>0.124477</td>\n",
       "      <td>0.161363</td>\n",
       "      <td>0.264312</td>\n",
       "      <td>0.498377</td>\n",
       "      <td>0.519610</td>\n",
       "      <td>0.496860</td>\n",
       "      <td>0.459399</td>\n",
       "      <td>0.452002</td>\n",
       "      <td>...</td>\n",
       "      <td>0.240459</td>\n",
       "      <td>0.119875</td>\n",
       "      <td>0.107106</td>\n",
       "      <td>0.240459</td>\n",
       "      <td>0.045550</td>\n",
       "      <td>0.166523</td>\n",
       "      <td>0.055459</td>\n",
       "      <td>0.058095</td>\n",
       "      <td>0.004454</td>\n",
       "      <td>0.107002</td>\n",
       "    </tr>\n",
       "    <tr>\n",
       "      <th>3966</th>\n",
       "      <td>0.544533</td>\n",
       "      <td>0.512066</td>\n",
       "      <td>0.422708</td>\n",
       "      <td>0.463992</td>\n",
       "      <td>0.560755</td>\n",
       "      <td>0.681854</td>\n",
       "      <td>0.674806</td>\n",
       "      <td>0.407690</td>\n",
       "      <td>0.435993</td>\n",
       "      <td>0.452617</td>\n",
       "      <td>...</td>\n",
       "      <td>0.009722</td>\n",
       "      <td>0.158809</td>\n",
       "      <td>0.074920</td>\n",
       "      <td>0.105285</td>\n",
       "      <td>0.072356</td>\n",
       "      <td>0.066477</td>\n",
       "      <td>0.053114</td>\n",
       "      <td>0.005330</td>\n",
       "      <td>0.094172</td>\n",
       "      <td>0.167799</td>\n",
       "    </tr>\n",
       "    <tr>\n",
       "      <th>3967</th>\n",
       "      <td>0.593601</td>\n",
       "      <td>0.606274</td>\n",
       "      <td>0.609996</td>\n",
       "      <td>0.601326</td>\n",
       "      <td>0.602564</td>\n",
       "      <td>0.604640</td>\n",
       "      <td>0.607663</td>\n",
       "      <td>0.610060</td>\n",
       "      <td>0.600270</td>\n",
       "      <td>0.586118</td>\n",
       "      <td>...</td>\n",
       "      <td>0.000000</td>\n",
       "      <td>0.004178</td>\n",
       "      <td>0.003242</td>\n",
       "      <td>0.009213</td>\n",
       "      <td>0.242985</td>\n",
       "      <td>0.117262</td>\n",
       "      <td>0.047636</td>\n",
       "      <td>0.003769</td>\n",
       "      <td>0.000755</td>\n",
       "      <td>0.000554</td>\n",
       "    </tr>\n",
       "    <tr>\n",
       "      <th>3968</th>\n",
       "      <td>0.258244</td>\n",
       "      <td>0.231408</td>\n",
       "      <td>0.223856</td>\n",
       "      <td>0.221508</td>\n",
       "      <td>0.224336</td>\n",
       "      <td>0.229564</td>\n",
       "      <td>0.247464</td>\n",
       "      <td>0.263643</td>\n",
       "      <td>0.281541</td>\n",
       "      <td>0.293616</td>\n",
       "      <td>...</td>\n",
       "      <td>0.015438</td>\n",
       "      <td>0.004055</td>\n",
       "      <td>0.004821</td>\n",
       "      <td>0.007232</td>\n",
       "      <td>0.003925</td>\n",
       "      <td>0.006147</td>\n",
       "      <td>0.005121</td>\n",
       "      <td>0.006331</td>\n",
       "      <td>0.013780</td>\n",
       "      <td>0.042289</td>\n",
       "    </tr>\n",
       "  </tbody>\n",
       "</table>\n",
       "<p>3969 rows × 18100 columns</p>\n",
       "</div>"
      ],
      "text/plain": [
       "         0         1         2         3         4         5         6      \\\n",
       "0     0.439885  0.438162  0.424706  0.430746  0.458318  0.473671  0.476753   \n",
       "1     0.172878  0.172201  0.173932  0.177733  0.184924  0.182511  0.178126   \n",
       "2     0.679896  0.691023  0.581526  0.452563  0.403145  0.374648  0.418351   \n",
       "3     0.430422  0.428756  0.434860  0.441580  0.452389  0.456540  0.461079   \n",
       "4     0.723147  0.697821  0.676790  0.651906  0.624277  0.619955  0.634736   \n",
       "...        ...       ...       ...       ...       ...       ...       ...   \n",
       "3964  0.312737  0.273857  0.266179  0.275038  0.263484  0.282415  0.429487   \n",
       "3965  0.188288  0.228981  0.124477  0.161363  0.264312  0.498377  0.519610   \n",
       "3966  0.544533  0.512066  0.422708  0.463992  0.560755  0.681854  0.674806   \n",
       "3967  0.593601  0.606274  0.609996  0.601326  0.602564  0.604640  0.607663   \n",
       "3968  0.258244  0.231408  0.223856  0.221508  0.224336  0.229564  0.247464   \n",
       "\n",
       "         7         8         9      ...     18090     18091     18092  \\\n",
       "0     0.468016  0.461158  0.467136  ...  0.149028  0.043389  0.131780   \n",
       "1     0.254360  0.554185  0.787118  ...  0.030135  0.034661  0.024311   \n",
       "2     0.485857  0.610514  0.659370  ...  0.064710  0.000000  0.019262   \n",
       "3     0.461090  0.447555  0.434589  ...  0.224119  0.091252  0.171947   \n",
       "4     0.658536  0.681113  0.699430  ...  0.149668  0.211011  0.083375   \n",
       "...        ...       ...       ...  ...       ...       ...       ...   \n",
       "3964  0.581594  0.481229  0.316782  ...  0.039240  0.094688  0.041310   \n",
       "3965  0.496860  0.459399  0.452002  ...  0.240459  0.119875  0.107106   \n",
       "3966  0.407690  0.435993  0.452617  ...  0.009722  0.158809  0.074920   \n",
       "3967  0.610060  0.600270  0.586118  ...  0.000000  0.004178  0.003242   \n",
       "3968  0.263643  0.281541  0.293616  ...  0.015438  0.004055  0.004821   \n",
       "\n",
       "         18093     18094     18095     18096     18097     18098     18099  \n",
       "0     0.088498  0.082028  0.117894  0.108705  0.048627  0.073933  0.062441  \n",
       "1     0.018938  0.102725  0.249643  0.045737  0.048102  0.000000  0.030866  \n",
       "2     0.171385  0.097012  0.027145  0.005075  0.005191  0.000000  0.000496  \n",
       "3     0.124587  0.083243  0.035421  0.041093  0.045048  0.044490  0.068433  \n",
       "4     0.048273  0.069840  0.021323  0.059668  0.131290  0.211011  0.079154  \n",
       "...        ...       ...       ...       ...       ...       ...       ...  \n",
       "3964  0.090983  0.233744  0.097240  0.063136  0.110155  0.067914  0.167053  \n",
       "3965  0.240459  0.045550  0.166523  0.055459  0.058095  0.004454  0.107002  \n",
       "3966  0.105285  0.072356  0.066477  0.053114  0.005330  0.094172  0.167799  \n",
       "3967  0.009213  0.242985  0.117262  0.047636  0.003769  0.000755  0.000554  \n",
       "3968  0.007232  0.003925  0.006147  0.005121  0.006331  0.013780  0.042289  \n",
       "\n",
       "[3969 rows x 18100 columns]"
      ]
     },
     "execution_count": 18,
     "metadata": {},
     "output_type": "execute_result"
    }
   ],
   "source": [
    "X"
   ]
  },
  {
   "cell_type": "code",
   "execution_count": 19,
   "metadata": {},
   "outputs": [
    {
     "data": {
      "text/html": [
       "<div>\n",
       "<style scoped>\n",
       "    .dataframe tbody tr th:only-of-type {\n",
       "        vertical-align: middle;\n",
       "    }\n",
       "\n",
       "    .dataframe tbody tr th {\n",
       "        vertical-align: top;\n",
       "    }\n",
       "\n",
       "    .dataframe thead th {\n",
       "        text-align: right;\n",
       "    }\n",
       "</style>\n",
       "<table border=\"1\" class=\"dataframe\">\n",
       "  <thead>\n",
       "    <tr style=\"text-align: right;\">\n",
       "      <th></th>\n",
       "      <th>0</th>\n",
       "    </tr>\n",
       "  </thead>\n",
       "  <tbody>\n",
       "    <tr>\n",
       "      <th>0</th>\n",
       "      <td>1.0</td>\n",
       "    </tr>\n",
       "    <tr>\n",
       "      <th>1</th>\n",
       "      <td>1.0</td>\n",
       "    </tr>\n",
       "    <tr>\n",
       "      <th>2</th>\n",
       "      <td>1.0</td>\n",
       "    </tr>\n",
       "    <tr>\n",
       "      <th>3</th>\n",
       "      <td>1.0</td>\n",
       "    </tr>\n",
       "    <tr>\n",
       "      <th>4</th>\n",
       "      <td>1.0</td>\n",
       "    </tr>\n",
       "    <tr>\n",
       "      <th>...</th>\n",
       "      <td>...</td>\n",
       "    </tr>\n",
       "    <tr>\n",
       "      <th>3964</th>\n",
       "      <td>0.0</td>\n",
       "    </tr>\n",
       "    <tr>\n",
       "      <th>3965</th>\n",
       "      <td>0.0</td>\n",
       "    </tr>\n",
       "    <tr>\n",
       "      <th>3966</th>\n",
       "      <td>0.0</td>\n",
       "    </tr>\n",
       "    <tr>\n",
       "      <th>3967</th>\n",
       "      <td>0.0</td>\n",
       "    </tr>\n",
       "    <tr>\n",
       "      <th>3968</th>\n",
       "      <td>0.0</td>\n",
       "    </tr>\n",
       "  </tbody>\n",
       "</table>\n",
       "<p>3969 rows × 1 columns</p>\n",
       "</div>"
      ],
      "text/plain": [
       "        0\n",
       "0     1.0\n",
       "1     1.0\n",
       "2     1.0\n",
       "3     1.0\n",
       "4     1.0\n",
       "...   ...\n",
       "3964  0.0\n",
       "3965  0.0\n",
       "3966  0.0\n",
       "3967  0.0\n",
       "3968  0.0\n",
       "\n",
       "[3969 rows x 1 columns]"
      ]
     },
     "execution_count": 19,
     "metadata": {},
     "output_type": "execute_result"
    }
   ],
   "source": [
    "y"
   ]
  },
  {
   "cell_type": "code",
   "execution_count": 20,
   "metadata": {},
   "outputs": [],
   "source": [
    "df=pd.concat([X,y],axis=1)"
   ]
  },
  {
   "cell_type": "code",
   "execution_count": 21,
   "metadata": {},
   "outputs": [
    {
     "data": {
      "text/plain": [
       "0       1.0\n",
       "1       1.0\n",
       "2       1.0\n",
       "3       1.0\n",
       "4       1.0\n",
       "       ... \n",
       "3964    0.0\n",
       "3965    0.0\n",
       "3966    0.0\n",
       "3967    0.0\n",
       "3968    0.0\n",
       "Name: 0, Length: 3969, dtype: float64"
      ]
     },
     "execution_count": 21,
     "metadata": {},
     "output_type": "execute_result"
    }
   ],
   "source": [
    "df.iloc[:,-1]"
   ]
  },
  {
   "cell_type": "code",
   "execution_count": 22,
   "metadata": {},
   "outputs": [],
   "source": [
    "from sklearn.preprocessing import StandardScaler\n",
    "from sklearn.decomposition import PCA"
   ]
  },
  {
   "cell_type": "code",
   "execution_count": 23,
   "metadata": {},
   "outputs": [
    {
     "name": "stdout",
     "output_type": "stream",
     "text": [
      "(3969, 18100)\n"
     ]
    }
   ],
   "source": [
    "scaler = StandardScaler()\n",
    "scaled_data = scaler.fit_transform(X)\n",
    "print(scaled_data.shape)"
   ]
  },
  {
   "cell_type": "code",
   "execution_count": 24,
   "metadata": {},
   "outputs": [
    {
     "name": "stdout",
     "output_type": "stream",
     "text": [
      "PCA matrix shape is:  (3969, 500)\n"
     ]
    }
   ],
   "source": [
    "pca = PCA(n_components=500)\n",
    "\n",
    "# # use fit_transform to run PCA on our standardized matrix\n",
    "pca_data = pca.fit_transform(scaled_data)\n",
    "\n",
    "# # look at new shape\n",
    "print('PCA matrix shape is: ', pca_data.shape)"
   ]
  },
  {
   "cell_type": "code",
   "execution_count": 25,
   "metadata": {},
   "outputs": [
    {
     "data": {
      "text/plain": [
       "(3969, 500)"
      ]
     },
     "execution_count": 25,
     "metadata": {},
     "output_type": "execute_result"
    }
   ],
   "source": [
    "pca_data.shape"
   ]
  },
  {
   "cell_type": "markdown",
   "metadata": {},
   "source": [
    "## Save PCA value for further use"
   ]
  },
  {
   "cell_type": "code",
   "execution_count": 30,
   "metadata": {},
   "outputs": [
    {
     "data": {
      "text/html": [
       "<div>\n",
       "<style scoped>\n",
       "    .dataframe tbody tr th:only-of-type {\n",
       "        vertical-align: middle;\n",
       "    }\n",
       "\n",
       "    .dataframe tbody tr th {\n",
       "        vertical-align: top;\n",
       "    }\n",
       "\n",
       "    .dataframe thead th {\n",
       "        text-align: right;\n",
       "    }\n",
       "</style>\n",
       "<table border=\"1\" class=\"dataframe\">\n",
       "  <thead>\n",
       "    <tr style=\"text-align: right;\">\n",
       "      <th></th>\n",
       "      <th>0</th>\n",
       "      <th>1</th>\n",
       "      <th>2</th>\n",
       "      <th>3</th>\n",
       "      <th>4</th>\n",
       "      <th>5</th>\n",
       "      <th>6</th>\n",
       "      <th>7</th>\n",
       "      <th>8</th>\n",
       "      <th>9</th>\n",
       "      <th>...</th>\n",
       "      <th>491</th>\n",
       "      <th>492</th>\n",
       "      <th>493</th>\n",
       "      <th>494</th>\n",
       "      <th>495</th>\n",
       "      <th>496</th>\n",
       "      <th>497</th>\n",
       "      <th>498</th>\n",
       "      <th>499</th>\n",
       "      <th>0</th>\n",
       "    </tr>\n",
       "  </thead>\n",
       "  <tbody>\n",
       "    <tr>\n",
       "      <th>0</th>\n",
       "      <td>13.369608</td>\n",
       "      <td>4.997050</td>\n",
       "      <td>-35.839906</td>\n",
       "      <td>1.645782</td>\n",
       "      <td>-10.838336</td>\n",
       "      <td>18.587056</td>\n",
       "      <td>-3.665177</td>\n",
       "      <td>9.813953</td>\n",
       "      <td>17.119590</td>\n",
       "      <td>-7.881559</td>\n",
       "      <td>...</td>\n",
       "      <td>-1.989934</td>\n",
       "      <td>-1.937450</td>\n",
       "      <td>1.277379</td>\n",
       "      <td>-1.321233</td>\n",
       "      <td>1.576726</td>\n",
       "      <td>1.721007</td>\n",
       "      <td>4.341895</td>\n",
       "      <td>-4.135440</td>\n",
       "      <td>-1.249143</td>\n",
       "      <td>1.0</td>\n",
       "    </tr>\n",
       "    <tr>\n",
       "      <th>1</th>\n",
       "      <td>23.879396</td>\n",
       "      <td>77.691191</td>\n",
       "      <td>9.841990</td>\n",
       "      <td>-42.182856</td>\n",
       "      <td>-0.804337</td>\n",
       "      <td>-15.295236</td>\n",
       "      <td>-18.412257</td>\n",
       "      <td>7.860193</td>\n",
       "      <td>-6.064456</td>\n",
       "      <td>40.486043</td>\n",
       "      <td>...</td>\n",
       "      <td>2.774226</td>\n",
       "      <td>-2.051870</td>\n",
       "      <td>0.955698</td>\n",
       "      <td>-0.440675</td>\n",
       "      <td>4.009096</td>\n",
       "      <td>-3.093669</td>\n",
       "      <td>3.478665</td>\n",
       "      <td>-0.668417</td>\n",
       "      <td>-1.901585</td>\n",
       "      <td>1.0</td>\n",
       "    </tr>\n",
       "    <tr>\n",
       "      <th>2</th>\n",
       "      <td>48.871753</td>\n",
       "      <td>-4.216883</td>\n",
       "      <td>-9.128006</td>\n",
       "      <td>-31.537281</td>\n",
       "      <td>-15.627373</td>\n",
       "      <td>-13.375401</td>\n",
       "      <td>8.229327</td>\n",
       "      <td>7.510331</td>\n",
       "      <td>22.760047</td>\n",
       "      <td>-11.286881</td>\n",
       "      <td>...</td>\n",
       "      <td>0.425203</td>\n",
       "      <td>-4.613065</td>\n",
       "      <td>3.088296</td>\n",
       "      <td>2.208019</td>\n",
       "      <td>2.676963</td>\n",
       "      <td>0.258058</td>\n",
       "      <td>-2.122044</td>\n",
       "      <td>-1.270513</td>\n",
       "      <td>-2.276765</td>\n",
       "      <td>1.0</td>\n",
       "    </tr>\n",
       "    <tr>\n",
       "      <th>3</th>\n",
       "      <td>34.248113</td>\n",
       "      <td>-29.036858</td>\n",
       "      <td>-7.669862</td>\n",
       "      <td>-23.066531</td>\n",
       "      <td>-0.985512</td>\n",
       "      <td>5.025549</td>\n",
       "      <td>-2.780466</td>\n",
       "      <td>-1.884529</td>\n",
       "      <td>15.583150</td>\n",
       "      <td>-8.648788</td>\n",
       "      <td>...</td>\n",
       "      <td>0.828193</td>\n",
       "      <td>-1.547936</td>\n",
       "      <td>-2.955235</td>\n",
       "      <td>-0.015273</td>\n",
       "      <td>-2.749190</td>\n",
       "      <td>-3.548030</td>\n",
       "      <td>-2.473856</td>\n",
       "      <td>-5.859767</td>\n",
       "      <td>0.648273</td>\n",
       "      <td>1.0</td>\n",
       "    </tr>\n",
       "    <tr>\n",
       "      <th>4</th>\n",
       "      <td>-14.896189</td>\n",
       "      <td>33.447135</td>\n",
       "      <td>24.863947</td>\n",
       "      <td>-27.013489</td>\n",
       "      <td>2.341393</td>\n",
       "      <td>5.779110</td>\n",
       "      <td>1.293877</td>\n",
       "      <td>25.094439</td>\n",
       "      <td>13.074261</td>\n",
       "      <td>17.157477</td>\n",
       "      <td>...</td>\n",
       "      <td>1.718024</td>\n",
       "      <td>2.872644</td>\n",
       "      <td>0.017070</td>\n",
       "      <td>-0.284294</td>\n",
       "      <td>2.143936</td>\n",
       "      <td>-1.504421</td>\n",
       "      <td>3.841100</td>\n",
       "      <td>3.527771</td>\n",
       "      <td>-1.696002</td>\n",
       "      <td>1.0</td>\n",
       "    </tr>\n",
       "    <tr>\n",
       "      <th>...</th>\n",
       "      <td>...</td>\n",
       "      <td>...</td>\n",
       "      <td>...</td>\n",
       "      <td>...</td>\n",
       "      <td>...</td>\n",
       "      <td>...</td>\n",
       "      <td>...</td>\n",
       "      <td>...</td>\n",
       "      <td>...</td>\n",
       "      <td>...</td>\n",
       "      <td>...</td>\n",
       "      <td>...</td>\n",
       "      <td>...</td>\n",
       "      <td>...</td>\n",
       "      <td>...</td>\n",
       "      <td>...</td>\n",
       "      <td>...</td>\n",
       "      <td>...</td>\n",
       "      <td>...</td>\n",
       "      <td>...</td>\n",
       "      <td>...</td>\n",
       "    </tr>\n",
       "    <tr>\n",
       "      <th>3964</th>\n",
       "      <td>13.439499</td>\n",
       "      <td>-2.732395</td>\n",
       "      <td>28.777482</td>\n",
       "      <td>17.347145</td>\n",
       "      <td>19.041487</td>\n",
       "      <td>-8.704166</td>\n",
       "      <td>22.922247</td>\n",
       "      <td>-21.294865</td>\n",
       "      <td>7.134422</td>\n",
       "      <td>7.357681</td>\n",
       "      <td>...</td>\n",
       "      <td>3.116760</td>\n",
       "      <td>-1.604107</td>\n",
       "      <td>-1.692865</td>\n",
       "      <td>0.043061</td>\n",
       "      <td>2.197493</td>\n",
       "      <td>1.911180</td>\n",
       "      <td>-6.212299</td>\n",
       "      <td>1.557718</td>\n",
       "      <td>-0.710130</td>\n",
       "      <td>0.0</td>\n",
       "    </tr>\n",
       "    <tr>\n",
       "      <th>3965</th>\n",
       "      <td>49.524229</td>\n",
       "      <td>6.249566</td>\n",
       "      <td>33.834276</td>\n",
       "      <td>31.507004</td>\n",
       "      <td>9.508049</td>\n",
       "      <td>-3.890573</td>\n",
       "      <td>20.712210</td>\n",
       "      <td>-4.142361</td>\n",
       "      <td>-4.780019</td>\n",
       "      <td>0.258711</td>\n",
       "      <td>...</td>\n",
       "      <td>-1.238029</td>\n",
       "      <td>3.594358</td>\n",
       "      <td>0.793595</td>\n",
       "      <td>4.582353</td>\n",
       "      <td>-1.850452</td>\n",
       "      <td>5.324780</td>\n",
       "      <td>1.917576</td>\n",
       "      <td>-5.541817</td>\n",
       "      <td>-0.096904</td>\n",
       "      <td>0.0</td>\n",
       "    </tr>\n",
       "    <tr>\n",
       "      <th>3966</th>\n",
       "      <td>-39.090635</td>\n",
       "      <td>-17.797108</td>\n",
       "      <td>-16.961461</td>\n",
       "      <td>51.748392</td>\n",
       "      <td>-23.302438</td>\n",
       "      <td>-40.132435</td>\n",
       "      <td>44.272582</td>\n",
       "      <td>-29.518037</td>\n",
       "      <td>19.570542</td>\n",
       "      <td>-25.076853</td>\n",
       "      <td>...</td>\n",
       "      <td>2.891940</td>\n",
       "      <td>-1.768507</td>\n",
       "      <td>-3.161733</td>\n",
       "      <td>-0.322507</td>\n",
       "      <td>-5.056391</td>\n",
       "      <td>2.431740</td>\n",
       "      <td>1.239734</td>\n",
       "      <td>-1.877065</td>\n",
       "      <td>2.079146</td>\n",
       "      <td>0.0</td>\n",
       "    </tr>\n",
       "    <tr>\n",
       "      <th>3967</th>\n",
       "      <td>63.954043</td>\n",
       "      <td>-24.303040</td>\n",
       "      <td>11.418657</td>\n",
       "      <td>-2.828174</td>\n",
       "      <td>13.951333</td>\n",
       "      <td>-9.466474</td>\n",
       "      <td>3.309596</td>\n",
       "      <td>5.919179</td>\n",
       "      <td>-6.212288</td>\n",
       "      <td>-4.411919</td>\n",
       "      <td>...</td>\n",
       "      <td>1.771043</td>\n",
       "      <td>1.197928</td>\n",
       "      <td>1.094496</td>\n",
       "      <td>-6.095995</td>\n",
       "      <td>-3.290312</td>\n",
       "      <td>-0.736202</td>\n",
       "      <td>-0.273191</td>\n",
       "      <td>-3.500533</td>\n",
       "      <td>-4.501231</td>\n",
       "      <td>0.0</td>\n",
       "    </tr>\n",
       "    <tr>\n",
       "      <th>3968</th>\n",
       "      <td>41.906979</td>\n",
       "      <td>-34.265775</td>\n",
       "      <td>-14.695881</td>\n",
       "      <td>21.284348</td>\n",
       "      <td>-8.367359</td>\n",
       "      <td>1.230401</td>\n",
       "      <td>4.640789</td>\n",
       "      <td>-9.114158</td>\n",
       "      <td>9.619771</td>\n",
       "      <td>-6.165750</td>\n",
       "      <td>...</td>\n",
       "      <td>-0.548125</td>\n",
       "      <td>1.275845</td>\n",
       "      <td>-5.112149</td>\n",
       "      <td>-1.414015</td>\n",
       "      <td>-0.513993</td>\n",
       "      <td>2.004917</td>\n",
       "      <td>0.148173</td>\n",
       "      <td>-2.584654</td>\n",
       "      <td>3.621868</td>\n",
       "      <td>0.0</td>\n",
       "    </tr>\n",
       "  </tbody>\n",
       "</table>\n",
       "<p>3969 rows × 501 columns</p>\n",
       "</div>"
      ],
      "text/plain": [
       "            0          1          2          3          4          5    \\\n",
       "0     13.369608   4.997050 -35.839906   1.645782 -10.838336  18.587056   \n",
       "1     23.879396  77.691191   9.841990 -42.182856  -0.804337 -15.295236   \n",
       "2     48.871753  -4.216883  -9.128006 -31.537281 -15.627373 -13.375401   \n",
       "3     34.248113 -29.036858  -7.669862 -23.066531  -0.985512   5.025549   \n",
       "4    -14.896189  33.447135  24.863947 -27.013489   2.341393   5.779110   \n",
       "...         ...        ...        ...        ...        ...        ...   \n",
       "3964  13.439499  -2.732395  28.777482  17.347145  19.041487  -8.704166   \n",
       "3965  49.524229   6.249566  33.834276  31.507004   9.508049  -3.890573   \n",
       "3966 -39.090635 -17.797108 -16.961461  51.748392 -23.302438 -40.132435   \n",
       "3967  63.954043 -24.303040  11.418657  -2.828174  13.951333  -9.466474   \n",
       "3968  41.906979 -34.265775 -14.695881  21.284348  -8.367359   1.230401   \n",
       "\n",
       "            6          7          8          9    ...       491       492  \\\n",
       "0     -3.665177   9.813953  17.119590  -7.881559  ... -1.989934 -1.937450   \n",
       "1    -18.412257   7.860193  -6.064456  40.486043  ...  2.774226 -2.051870   \n",
       "2      8.229327   7.510331  22.760047 -11.286881  ...  0.425203 -4.613065   \n",
       "3     -2.780466  -1.884529  15.583150  -8.648788  ...  0.828193 -1.547936   \n",
       "4      1.293877  25.094439  13.074261  17.157477  ...  1.718024  2.872644   \n",
       "...         ...        ...        ...        ...  ...       ...       ...   \n",
       "3964  22.922247 -21.294865   7.134422   7.357681  ...  3.116760 -1.604107   \n",
       "3965  20.712210  -4.142361  -4.780019   0.258711  ... -1.238029  3.594358   \n",
       "3966  44.272582 -29.518037  19.570542 -25.076853  ...  2.891940 -1.768507   \n",
       "3967   3.309596   5.919179  -6.212288  -4.411919  ...  1.771043  1.197928   \n",
       "3968   4.640789  -9.114158   9.619771  -6.165750  ... -0.548125  1.275845   \n",
       "\n",
       "           493       494       495       496       497       498       499  \\\n",
       "0     1.277379 -1.321233  1.576726  1.721007  4.341895 -4.135440 -1.249143   \n",
       "1     0.955698 -0.440675  4.009096 -3.093669  3.478665 -0.668417 -1.901585   \n",
       "2     3.088296  2.208019  2.676963  0.258058 -2.122044 -1.270513 -2.276765   \n",
       "3    -2.955235 -0.015273 -2.749190 -3.548030 -2.473856 -5.859767  0.648273   \n",
       "4     0.017070 -0.284294  2.143936 -1.504421  3.841100  3.527771 -1.696002   \n",
       "...        ...       ...       ...       ...       ...       ...       ...   \n",
       "3964 -1.692865  0.043061  2.197493  1.911180 -6.212299  1.557718 -0.710130   \n",
       "3965  0.793595  4.582353 -1.850452  5.324780  1.917576 -5.541817 -0.096904   \n",
       "3966 -3.161733 -0.322507 -5.056391  2.431740  1.239734 -1.877065  2.079146   \n",
       "3967  1.094496 -6.095995 -3.290312 -0.736202 -0.273191 -3.500533 -4.501231   \n",
       "3968 -5.112149 -1.414015 -0.513993  2.004917  0.148173 -2.584654  3.621868   \n",
       "\n",
       "      0    \n",
       "0     1.0  \n",
       "1     1.0  \n",
       "2     1.0  \n",
       "3     1.0  \n",
       "4     1.0  \n",
       "...   ...  \n",
       "3964  0.0  \n",
       "3965  0.0  \n",
       "3966  0.0  \n",
       "3967  0.0  \n",
       "3968  0.0  \n",
       "\n",
       "[3969 rows x 501 columns]"
      ]
     },
     "execution_count": 30,
     "metadata": {},
     "output_type": "execute_result"
    }
   ],
   "source": [
    "pca_X=pd.DataFrame(pca_data)\n",
    "pca_y=pd.DataFrame(label_y)\n",
    "pca_df=pd.concat([pca_X,pca_y],axis=1)\n",
    "pca_df"
   ]
  },
  {
   "cell_type": "code",
   "execution_count": 34,
   "metadata": {},
   "outputs": [],
   "source": [
    "pca_df.to_csv('PCADataset',encoding='utf-8', index=False)"
   ]
  },
  {
   "cell_type": "markdown",
   "metadata": {},
   "source": [
    "## Train Test Split"
   ]
  },
  {
   "cell_type": "code",
   "execution_count": 35,
   "metadata": {},
   "outputs": [],
   "source": [
    "# df.to_csv('hog_dataframe', encoding='utf-8', index=False)"
   ]
  },
  {
   "cell_type": "code",
   "execution_count": 36,
   "metadata": {},
   "outputs": [],
   "source": [
    "# data=pd.read_csv('hog_dataframe')"
   ]
  },
  {
   "cell_type": "code",
   "execution_count": 88,
   "metadata": {},
   "outputs": [
    {
     "data": {
      "text/html": [
       "<div>\n",
       "<style scoped>\n",
       "    .dataframe tbody tr th:only-of-type {\n",
       "        vertical-align: middle;\n",
       "    }\n",
       "\n",
       "    .dataframe tbody tr th {\n",
       "        vertical-align: top;\n",
       "    }\n",
       "\n",
       "    .dataframe thead th {\n",
       "        text-align: right;\n",
       "    }\n",
       "</style>\n",
       "<table border=\"1\" class=\"dataframe\">\n",
       "  <thead>\n",
       "    <tr style=\"text-align: right;\">\n",
       "      <th></th>\n",
       "      <th>0</th>\n",
       "      <th>1</th>\n",
       "      <th>2</th>\n",
       "      <th>3</th>\n",
       "      <th>4</th>\n",
       "      <th>5</th>\n",
       "      <th>6</th>\n",
       "      <th>7</th>\n",
       "      <th>8</th>\n",
       "      <th>9</th>\n",
       "      <th>...</th>\n",
       "      <th>491</th>\n",
       "      <th>492</th>\n",
       "      <th>493</th>\n",
       "      <th>494</th>\n",
       "      <th>495</th>\n",
       "      <th>496</th>\n",
       "      <th>497</th>\n",
       "      <th>498</th>\n",
       "      <th>499</th>\n",
       "      <th>0.1</th>\n",
       "    </tr>\n",
       "  </thead>\n",
       "  <tbody>\n",
       "    <tr>\n",
       "      <th>0</th>\n",
       "      <td>13.369608</td>\n",
       "      <td>4.997050</td>\n",
       "      <td>-35.839906</td>\n",
       "      <td>1.645782</td>\n",
       "      <td>-10.838336</td>\n",
       "      <td>18.587056</td>\n",
       "      <td>-3.665177</td>\n",
       "      <td>9.813953</td>\n",
       "      <td>17.119590</td>\n",
       "      <td>-7.881559</td>\n",
       "      <td>...</td>\n",
       "      <td>-1.989934</td>\n",
       "      <td>-1.937450</td>\n",
       "      <td>1.277379</td>\n",
       "      <td>-1.321233</td>\n",
       "      <td>1.576726</td>\n",
       "      <td>1.721007</td>\n",
       "      <td>4.341895</td>\n",
       "      <td>-4.135440</td>\n",
       "      <td>-1.249143</td>\n",
       "      <td>1.0</td>\n",
       "    </tr>\n",
       "    <tr>\n",
       "      <th>1</th>\n",
       "      <td>23.879396</td>\n",
       "      <td>77.691191</td>\n",
       "      <td>9.841990</td>\n",
       "      <td>-42.182856</td>\n",
       "      <td>-0.804337</td>\n",
       "      <td>-15.295236</td>\n",
       "      <td>-18.412257</td>\n",
       "      <td>7.860193</td>\n",
       "      <td>-6.064456</td>\n",
       "      <td>40.486043</td>\n",
       "      <td>...</td>\n",
       "      <td>2.774226</td>\n",
       "      <td>-2.051870</td>\n",
       "      <td>0.955698</td>\n",
       "      <td>-0.440675</td>\n",
       "      <td>4.009096</td>\n",
       "      <td>-3.093669</td>\n",
       "      <td>3.478665</td>\n",
       "      <td>-0.668417</td>\n",
       "      <td>-1.901585</td>\n",
       "      <td>1.0</td>\n",
       "    </tr>\n",
       "    <tr>\n",
       "      <th>2</th>\n",
       "      <td>48.871753</td>\n",
       "      <td>-4.216883</td>\n",
       "      <td>-9.128006</td>\n",
       "      <td>-31.537281</td>\n",
       "      <td>-15.627373</td>\n",
       "      <td>-13.375401</td>\n",
       "      <td>8.229327</td>\n",
       "      <td>7.510331</td>\n",
       "      <td>22.760047</td>\n",
       "      <td>-11.286881</td>\n",
       "      <td>...</td>\n",
       "      <td>0.425203</td>\n",
       "      <td>-4.613065</td>\n",
       "      <td>3.088296</td>\n",
       "      <td>2.208019</td>\n",
       "      <td>2.676963</td>\n",
       "      <td>0.258058</td>\n",
       "      <td>-2.122044</td>\n",
       "      <td>-1.270513</td>\n",
       "      <td>-2.276765</td>\n",
       "      <td>1.0</td>\n",
       "    </tr>\n",
       "    <tr>\n",
       "      <th>3</th>\n",
       "      <td>34.248113</td>\n",
       "      <td>-29.036858</td>\n",
       "      <td>-7.669862</td>\n",
       "      <td>-23.066531</td>\n",
       "      <td>-0.985512</td>\n",
       "      <td>5.025549</td>\n",
       "      <td>-2.780466</td>\n",
       "      <td>-1.884529</td>\n",
       "      <td>15.583150</td>\n",
       "      <td>-8.648788</td>\n",
       "      <td>...</td>\n",
       "      <td>0.828193</td>\n",
       "      <td>-1.547936</td>\n",
       "      <td>-2.955235</td>\n",
       "      <td>-0.015273</td>\n",
       "      <td>-2.749190</td>\n",
       "      <td>-3.548030</td>\n",
       "      <td>-2.473856</td>\n",
       "      <td>-5.859767</td>\n",
       "      <td>0.648273</td>\n",
       "      <td>1.0</td>\n",
       "    </tr>\n",
       "    <tr>\n",
       "      <th>4</th>\n",
       "      <td>-14.896189</td>\n",
       "      <td>33.447135</td>\n",
       "      <td>24.863947</td>\n",
       "      <td>-27.013489</td>\n",
       "      <td>2.341393</td>\n",
       "      <td>5.779110</td>\n",
       "      <td>1.293877</td>\n",
       "      <td>25.094439</td>\n",
       "      <td>13.074261</td>\n",
       "      <td>17.157477</td>\n",
       "      <td>...</td>\n",
       "      <td>1.718024</td>\n",
       "      <td>2.872644</td>\n",
       "      <td>0.017070</td>\n",
       "      <td>-0.284294</td>\n",
       "      <td>2.143936</td>\n",
       "      <td>-1.504421</td>\n",
       "      <td>3.841100</td>\n",
       "      <td>3.527771</td>\n",
       "      <td>-1.696002</td>\n",
       "      <td>1.0</td>\n",
       "    </tr>\n",
       "    <tr>\n",
       "      <th>...</th>\n",
       "      <td>...</td>\n",
       "      <td>...</td>\n",
       "      <td>...</td>\n",
       "      <td>...</td>\n",
       "      <td>...</td>\n",
       "      <td>...</td>\n",
       "      <td>...</td>\n",
       "      <td>...</td>\n",
       "      <td>...</td>\n",
       "      <td>...</td>\n",
       "      <td>...</td>\n",
       "      <td>...</td>\n",
       "      <td>...</td>\n",
       "      <td>...</td>\n",
       "      <td>...</td>\n",
       "      <td>...</td>\n",
       "      <td>...</td>\n",
       "      <td>...</td>\n",
       "      <td>...</td>\n",
       "      <td>...</td>\n",
       "      <td>...</td>\n",
       "    </tr>\n",
       "    <tr>\n",
       "      <th>3964</th>\n",
       "      <td>13.439499</td>\n",
       "      <td>-2.732395</td>\n",
       "      <td>28.777482</td>\n",
       "      <td>17.347145</td>\n",
       "      <td>19.041487</td>\n",
       "      <td>-8.704166</td>\n",
       "      <td>22.922247</td>\n",
       "      <td>-21.294865</td>\n",
       "      <td>7.134422</td>\n",
       "      <td>7.357681</td>\n",
       "      <td>...</td>\n",
       "      <td>3.116760</td>\n",
       "      <td>-1.604107</td>\n",
       "      <td>-1.692865</td>\n",
       "      <td>0.043061</td>\n",
       "      <td>2.197493</td>\n",
       "      <td>1.911180</td>\n",
       "      <td>-6.212299</td>\n",
       "      <td>1.557718</td>\n",
       "      <td>-0.710130</td>\n",
       "      <td>0.0</td>\n",
       "    </tr>\n",
       "    <tr>\n",
       "      <th>3965</th>\n",
       "      <td>49.524229</td>\n",
       "      <td>6.249566</td>\n",
       "      <td>33.834276</td>\n",
       "      <td>31.507004</td>\n",
       "      <td>9.508049</td>\n",
       "      <td>-3.890573</td>\n",
       "      <td>20.712210</td>\n",
       "      <td>-4.142361</td>\n",
       "      <td>-4.780019</td>\n",
       "      <td>0.258711</td>\n",
       "      <td>...</td>\n",
       "      <td>-1.238029</td>\n",
       "      <td>3.594358</td>\n",
       "      <td>0.793595</td>\n",
       "      <td>4.582353</td>\n",
       "      <td>-1.850452</td>\n",
       "      <td>5.324780</td>\n",
       "      <td>1.917576</td>\n",
       "      <td>-5.541817</td>\n",
       "      <td>-0.096904</td>\n",
       "      <td>0.0</td>\n",
       "    </tr>\n",
       "    <tr>\n",
       "      <th>3966</th>\n",
       "      <td>-39.090635</td>\n",
       "      <td>-17.797108</td>\n",
       "      <td>-16.961461</td>\n",
       "      <td>51.748392</td>\n",
       "      <td>-23.302438</td>\n",
       "      <td>-40.132435</td>\n",
       "      <td>44.272582</td>\n",
       "      <td>-29.518037</td>\n",
       "      <td>19.570542</td>\n",
       "      <td>-25.076853</td>\n",
       "      <td>...</td>\n",
       "      <td>2.891940</td>\n",
       "      <td>-1.768507</td>\n",
       "      <td>-3.161733</td>\n",
       "      <td>-0.322507</td>\n",
       "      <td>-5.056391</td>\n",
       "      <td>2.431740</td>\n",
       "      <td>1.239734</td>\n",
       "      <td>-1.877065</td>\n",
       "      <td>2.079146</td>\n",
       "      <td>0.0</td>\n",
       "    </tr>\n",
       "    <tr>\n",
       "      <th>3967</th>\n",
       "      <td>63.954043</td>\n",
       "      <td>-24.303040</td>\n",
       "      <td>11.418657</td>\n",
       "      <td>-2.828174</td>\n",
       "      <td>13.951333</td>\n",
       "      <td>-9.466474</td>\n",
       "      <td>3.309596</td>\n",
       "      <td>5.919179</td>\n",
       "      <td>-6.212288</td>\n",
       "      <td>-4.411919</td>\n",
       "      <td>...</td>\n",
       "      <td>1.771043</td>\n",
       "      <td>1.197928</td>\n",
       "      <td>1.094496</td>\n",
       "      <td>-6.095995</td>\n",
       "      <td>-3.290312</td>\n",
       "      <td>-0.736202</td>\n",
       "      <td>-0.273191</td>\n",
       "      <td>-3.500533</td>\n",
       "      <td>-4.501231</td>\n",
       "      <td>0.0</td>\n",
       "    </tr>\n",
       "    <tr>\n",
       "      <th>3968</th>\n",
       "      <td>41.906979</td>\n",
       "      <td>-34.265775</td>\n",
       "      <td>-14.695881</td>\n",
       "      <td>21.284348</td>\n",
       "      <td>-8.367359</td>\n",
       "      <td>1.230401</td>\n",
       "      <td>4.640789</td>\n",
       "      <td>-9.114158</td>\n",
       "      <td>9.619771</td>\n",
       "      <td>-6.165750</td>\n",
       "      <td>...</td>\n",
       "      <td>-0.548125</td>\n",
       "      <td>1.275845</td>\n",
       "      <td>-5.112149</td>\n",
       "      <td>-1.414015</td>\n",
       "      <td>-0.513993</td>\n",
       "      <td>2.004917</td>\n",
       "      <td>0.148173</td>\n",
       "      <td>-2.584654</td>\n",
       "      <td>3.621868</td>\n",
       "      <td>0.0</td>\n",
       "    </tr>\n",
       "  </tbody>\n",
       "</table>\n",
       "<p>3969 rows × 501 columns</p>\n",
       "</div>"
      ],
      "text/plain": [
       "              0          1          2          3          4          5  \\\n",
       "0     13.369608   4.997050 -35.839906   1.645782 -10.838336  18.587056   \n",
       "1     23.879396  77.691191   9.841990 -42.182856  -0.804337 -15.295236   \n",
       "2     48.871753  -4.216883  -9.128006 -31.537281 -15.627373 -13.375401   \n",
       "3     34.248113 -29.036858  -7.669862 -23.066531  -0.985512   5.025549   \n",
       "4    -14.896189  33.447135  24.863947 -27.013489   2.341393   5.779110   \n",
       "...         ...        ...        ...        ...        ...        ...   \n",
       "3964  13.439499  -2.732395  28.777482  17.347145  19.041487  -8.704166   \n",
       "3965  49.524229   6.249566  33.834276  31.507004   9.508049  -3.890573   \n",
       "3966 -39.090635 -17.797108 -16.961461  51.748392 -23.302438 -40.132435   \n",
       "3967  63.954043 -24.303040  11.418657  -2.828174  13.951333  -9.466474   \n",
       "3968  41.906979 -34.265775 -14.695881  21.284348  -8.367359   1.230401   \n",
       "\n",
       "              6          7          8          9  ...       491       492  \\\n",
       "0     -3.665177   9.813953  17.119590  -7.881559  ... -1.989934 -1.937450   \n",
       "1    -18.412257   7.860193  -6.064456  40.486043  ...  2.774226 -2.051870   \n",
       "2      8.229327   7.510331  22.760047 -11.286881  ...  0.425203 -4.613065   \n",
       "3     -2.780466  -1.884529  15.583150  -8.648788  ...  0.828193 -1.547936   \n",
       "4      1.293877  25.094439  13.074261  17.157477  ...  1.718024  2.872644   \n",
       "...         ...        ...        ...        ...  ...       ...       ...   \n",
       "3964  22.922247 -21.294865   7.134422   7.357681  ...  3.116760 -1.604107   \n",
       "3965  20.712210  -4.142361  -4.780019   0.258711  ... -1.238029  3.594358   \n",
       "3966  44.272582 -29.518037  19.570542 -25.076853  ...  2.891940 -1.768507   \n",
       "3967   3.309596   5.919179  -6.212288  -4.411919  ...  1.771043  1.197928   \n",
       "3968   4.640789  -9.114158   9.619771  -6.165750  ... -0.548125  1.275845   \n",
       "\n",
       "           493       494       495       496       497       498       499  \\\n",
       "0     1.277379 -1.321233  1.576726  1.721007  4.341895 -4.135440 -1.249143   \n",
       "1     0.955698 -0.440675  4.009096 -3.093669  3.478665 -0.668417 -1.901585   \n",
       "2     3.088296  2.208019  2.676963  0.258058 -2.122044 -1.270513 -2.276765   \n",
       "3    -2.955235 -0.015273 -2.749190 -3.548030 -2.473856 -5.859767  0.648273   \n",
       "4     0.017070 -0.284294  2.143936 -1.504421  3.841100  3.527771 -1.696002   \n",
       "...        ...       ...       ...       ...       ...       ...       ...   \n",
       "3964 -1.692865  0.043061  2.197493  1.911180 -6.212299  1.557718 -0.710130   \n",
       "3965  0.793595  4.582353 -1.850452  5.324780  1.917576 -5.541817 -0.096904   \n",
       "3966 -3.161733 -0.322507 -5.056391  2.431740  1.239734 -1.877065  2.079146   \n",
       "3967  1.094496 -6.095995 -3.290312 -0.736202 -0.273191 -3.500533 -4.501231   \n",
       "3968 -5.112149 -1.414015 -0.513993  2.004917  0.148173 -2.584654  3.621868   \n",
       "\n",
       "      0.1  \n",
       "0     1.0  \n",
       "1     1.0  \n",
       "2     1.0  \n",
       "3     1.0  \n",
       "4     1.0  \n",
       "...   ...  \n",
       "3964  0.0  \n",
       "3965  0.0  \n",
       "3966  0.0  \n",
       "3967  0.0  \n",
       "3968  0.0  \n",
       "\n",
       "[3969 rows x 501 columns]"
      ]
     },
     "execution_count": 88,
     "metadata": {},
     "output_type": "execute_result"
    }
   ],
   "source": [
    "data=pd.read_csv('PCADataset')\n",
    "data"
   ]
  },
  {
   "cell_type": "markdown",
   "metadata": {},
   "source": [
    "## Save MODEL "
   ]
  },
  {
   "cell_type": "code",
   "execution_count": 89,
   "metadata": {},
   "outputs": [],
   "source": [
    "# import pickle as pk\n",
    "# pk.dump(pca_data, open(\"pca.pkl\",\"wb\"))\n"
   ]
  },
  {
   "cell_type": "markdown",
   "metadata": {},
   "source": [
    "## Load MODEL"
   ]
  },
  {
   "cell_type": "code",
   "execution_count": 90,
   "metadata": {},
   "outputs": [],
   "source": [
    "# pca_reload = pk.load(open(\"pca.pkl\",'rb'))\n",
    "# result_new = pca_reload.transform(scaled_data)"
   ]
  },
  {
   "cell_type": "code",
   "execution_count": 91,
   "metadata": {},
   "outputs": [],
   "source": [
    "from sklearn.model_selection import train_test_split\n"
   ]
  },
  {
   "cell_type": "code",
   "execution_count": 92,
   "metadata": {},
   "outputs": [
    {
     "name": "stdout",
     "output_type": "stream",
     "text": [
      "(3969, 501) (3969, 500) (3969,)\n"
     ]
    }
   ],
   "source": [
    "X=data.iloc[:,0:-1]\n",
    "y=data.iloc[:,-1]\n",
    "print(data.shape, X.shape, y.shape)"
   ]
  },
  {
   "cell_type": "code",
   "execution_count": 93,
   "metadata": {},
   "outputs": [],
   "source": [
    "X_train,X_test, y_train, y_test = train_test_split(X, y,stratify=y, test_size=0.25, random_state=27)"
   ]
  },
  {
   "cell_type": "code",
   "execution_count": 94,
   "metadata": {},
   "outputs": [],
   "source": [
    "from sklearn import linear_model\n",
    "from sklearn.model_selection import GridSearchCV"
   ]
  },
  {
   "cell_type": "code",
   "execution_count": 95,
   "metadata": {},
   "outputs": [],
   "source": [
    "from sklearn.metrics import confusion_matrix\n",
    "from sklearn import metrics\n",
    "from sklearn.svm import SVC\n",
    "from sklearn.metrics import make_scorer, f1_score, accuracy_score,roc_auc_score,roc_curve"
   ]
  },
  {
   "cell_type": "code",
   "execution_count": 96,
   "metadata": {},
   "outputs": [],
   "source": [
    "import warnings\n",
    "warnings.filterwarnings(\"ignore\")"
   ]
  },
  {
   "cell_type": "code",
   "execution_count": 129,
   "metadata": {},
   "outputs": [],
   "source": [
    "from sklearn.metrics import make_scorer\n",
    "f1_scorer = make_scorer(f1_score)"
   ]
  },
  {
   "cell_type": "markdown",
   "metadata": {},
   "source": [
    "## Logistic Regression"
   ]
  },
  {
   "cell_type": "code",
   "execution_count": 98,
   "metadata": {},
   "outputs": [],
   "source": [
    "logistic = linear_model.LogisticRegression()"
   ]
  },
  {
   "cell_type": "code",
   "execution_count": 99,
   "metadata": {},
   "outputs": [],
   "source": [
    "# Create regularization penalty space\n",
    "penalty = ['l1', 'l2']\n",
    "\n",
    "# Create regularization hyperparameter space\n",
    "C = np.logspace(0, 4, 10)\n",
    "\n",
    "#From documentation:  ‘liblinear’ and ‘saga’ also handle L1 penalty. \n",
    "#For small datasets, ‘liblinear’ is a good choice, whereas ‘sag’ and ‘saga’ are faster for large ones\n",
    "solver=['liblinear', 'saga']\n",
    "\n",
    "# Create hyperparameter options\n",
    "hyperparameters = dict(C=C,\n",
    "                       penalty=penalty,\n",
    "                       solver=solver)\n",
    "\n",
    "\n"
   ]
  },
  {
   "cell_type": "code",
   "execution_count": 100,
   "metadata": {},
   "outputs": [],
   "source": [
    "clf = GridSearchCV(logistic, hyperparameters, cv=5, verbose=0,scoring=f1_scorer)\n",
    "#cv=5 and verbose=0 is default."
   ]
  },
  {
   "cell_type": "code",
   "execution_count": 101,
   "metadata": {
    "scrolled": true
   },
   "outputs": [],
   "source": [
    "best_model = clf.fit(X_train, y_train)"
   ]
  },
  {
   "cell_type": "code",
   "execution_count": 102,
   "metadata": {},
   "outputs": [
    {
     "name": "stdout",
     "output_type": "stream",
     "text": [
      "Best Score:  0.8313272857652183\n",
      "Best Params:  {'C': 1.0, 'penalty': 'l1', 'solver': 'liblinear'}\n"
     ]
    }
   ],
   "source": [
    "print('Best Score: ', best_model.best_score_)\n",
    "print('Best Params: ', best_model.best_params_)"
   ]
  },
  {
   "cell_type": "code",
   "execution_count": 103,
   "metadata": {},
   "outputs": [
    {
     "data": {
      "text/plain": [
       "1.0"
      ]
     },
     "execution_count": 103,
     "metadata": {},
     "output_type": "execute_result"
    }
   ],
   "source": [
    "params=best_model.best_params_\n",
    "params['C']"
   ]
  },
  {
   "cell_type": "code",
   "execution_count": 104,
   "metadata": {},
   "outputs": [
    {
     "name": "stdout",
     "output_type": "stream",
     "text": [
      "\tClassification Report of best feature\n",
      "              precision    recall  f1-score   support\n",
      "\n",
      "         0.0       0.31      0.26      0.28       207\n",
      "         1.0       0.81      0.85      0.83       786\n",
      "\n",
      "    accuracy                           0.73       993\n",
      "   macro avg       0.56      0.55      0.56       993\n",
      "weighted avg       0.71      0.73      0.72       993\n",
      "\n",
      "Train Accuracy:\t0.836\n",
      "Test Accuracy:\t 0.728\n"
     ]
    }
   ],
   "source": [
    "best_logistic = linear_model.LogisticRegression(C=params['C'],penalty=params['penalty'] ,solver=params['solver'])\n",
    "best_model = best_logistic.fit(X_train, y_train)\n",
    "y_train_pred=best_model.predict(X_train)\n",
    "y_pred = best_model.predict(X_test)\n",
    "\n",
    "print('\\tClassification Report of best feature')\n",
    "print(metrics.classification_report(y_test,y_pred))\n",
    "\n",
    "print('Train Accuracy:\\t{0:.3f}'.format(accuracy_score(y_train_pred, y_train)))\n",
    "print('Test Accuracy:\\t {0:.3f}'.format(accuracy_score(y_pred, y_test)))"
   ]
  },
  {
   "cell_type": "code",
   "execution_count": 105,
   "metadata": {},
   "outputs": [
    {
     "name": "stdout",
     "output_type": "stream",
     "text": [
      "Logistic: ROC AUC Score=0.629\n"
     ]
    },
    {
     "data": {
      "image/png": "[encoded data removed]",
      "text/plain": [
       "<Figure size 432x288 with 1 Axes>"
      ]
     },
     "metadata": {
      "needs_background": "light"
     },
     "output_type": "display_data"
    }
   ],
   "source": [
    "lr_probs = best_logistic.predict_proba(X_test)\n",
    "\n",
    "# keep probabilities for the positive outcome only\n",
    "lr_probs = lr_probs[:, 1]\n",
    "\n",
    "# calculate scores\n",
    "lr_auc = roc_auc_score(y_test, lr_probs)\n",
    "\n",
    "# summarize scores\n",
    "print('Logistic: ROC AUC Score=%.3f' % (lr_auc))\n",
    "\n",
    "# calculate roc curves\n",
    "lr_fpr, lr_tpr, _ = roc_curve(y_test, lr_probs)\n",
    "\n",
    "# plot the roc curve for the model\n",
    "plt.plot(lr_fpr, lr_tpr, label='Logistic')\n",
    "plt.plot([0,1], [0,1], ls='--')\n",
    "\n",
    "# axis labels\n",
    "plt.title('ROC Curve')\n",
    "plt.xlabel('False Positive Rate')\n",
    "plt.ylabel('True Positive Rate')\n",
    "# show the legend\n",
    "plt.legend()\n",
    "# show the plot\n",
    "plt.show()\n"
   ]
  },
  {
   "cell_type": "code",
   "execution_count": null,
   "metadata": {},
   "outputs": [],
   "source": []
  },
  {
   "cell_type": "markdown",
   "metadata": {},
   "source": [
    "# Random Forest Classifier"
   ]
  },
  {
   "cell_type": "code",
   "execution_count": 126,
   "metadata": {},
   "outputs": [],
   "source": [
    "from sklearn.ensemble import RandomForestClassifier"
   ]
  },
  {
   "cell_type": "code",
   "execution_count": 127,
   "metadata": {},
   "outputs": [],
   "source": [
    "from sklearn.model_selection import GridSearchCV\n",
    "\n",
    "grid_params={\n",
    "    'n_estimators':[5,10],\n",
    "    'max_depth': [5,10],\n",
    "    'min_samples_split': [6, 8],\n",
    "    'max_features':[0.6,0.8],\n",
    "}"
   ]
  },
  {
   "cell_type": "code",
   "execution_count": 130,
   "metadata": {},
   "outputs": [
    {
     "name": "stdout",
     "output_type": "stream",
     "text": [
      "Best score:  0.8831177691784843 {'max_depth': 5, 'max_features': 0.8, 'min_samples_split': 6, 'n_estimators': 10}\n"
     ]
    },
    {
     "data": {
      "text/plain": [
       "0.8813174332765474"
      ]
     },
     "execution_count": 130,
     "metadata": {},
     "output_type": "execute_result"
    }
   ],
   "source": [
    "clf=GridSearchCV(RandomForestClassifier(random_state=27),grid_params,scoring=f1_scorer)\n",
    "\n",
    "clf.fit(X_train,y_train)\n",
    "print('Best score: ', clf.best_score_,clf.best_params_)\n",
    "clf.score(X_test,y_test)"
   ]
  },
  {
   "cell_type": "code",
   "execution_count": 131,
   "metadata": {},
   "outputs": [
    {
     "name": "stdout",
     "output_type": "stream",
     "text": [
      "0.7895266868076536\n"
     ]
    }
   ],
   "source": [
    "best_model=clf.best_estimator_\n",
    "best_model.fit(X_train,y_train)\n",
    "\n",
    "y_preds_final =best_model.predict(X_test)\n",
    "print(accuracy_score(y_test,y_preds_final))"
   ]
  },
  {
   "cell_type": "code",
   "execution_count": 132,
   "metadata": {},
   "outputs": [
    {
     "name": "stdout",
     "output_type": "stream",
     "text": [
      "\tClassification Report of best feature Random Forest\n",
      "              precision    recall  f1-score   support\n",
      "\n",
      "         0.0       0.44      0.04      0.07       207\n",
      "         1.0       0.80      0.99      0.88       786\n",
      "\n",
      "    accuracy                           0.79       993\n",
      "   macro avg       0.62      0.51      0.48       993\n",
      "weighted avg       0.72      0.79      0.71       993\n",
      "\n",
      "Train Accuracy:\t0.846\n",
      "Test Accuracy:\t 0.756\n"
     ]
    }
   ],
   "source": [
    "print('\\tClassification Report of best feature Random Forest')\n",
    "print(metrics.classification_report(y_test,y_preds_final))\n",
    "\n",
    "print('Train Accuracy:\\t{0:.3f}'.format(accuracy_score(y_train_pred, y_train)))\n",
    "print('Test Accuracy:\\t {0:.3f}'.format(accuracy_score(y_pred, y_test)))"
   ]
  },
  {
   "cell_type": "code",
   "execution_count": 134,
   "metadata": {},
   "outputs": [
    {
     "name": "stdout",
     "output_type": "stream",
     "text": [
      "Random Forest: ROC AUC Score=0.637\n"
     ]
    },
    {
     "data": {
      "image/png": "[encoded data removed]",
      "text/plain": [
       "<Figure size 432x288 with 1 Axes>"
      ]
     },
     "metadata": {
      "needs_background": "light"
     },
     "output_type": "display_data"
    }
   ],
   "source": [
    "lr_probs = best_model.predict_proba(X_test)\n",
    "\n",
    "# keep probabilities for the positive outcome only\n",
    "lr_probs = lr_probs[:, 1]\n",
    "\n",
    "# calculate scores\n",
    "lr_auc = roc_auc_score(y_test, lr_probs)\n",
    "# summarize scores\n",
    "print('Random Forest: ROC AUC Score=%.3f' % (lr_auc))\n",
    "\n",
    "# calculate roc curves\n",
    "lr_fpr, lr_tpr, _ = roc_curve(y_test, lr_probs)\n",
    "\n",
    "# plot the roc curve for the model\n",
    "plt.plot(lr_fpr, lr_tpr, label='Random Forest')\n",
    "plt.plot([0,1], [0,1], ls='--')\n",
    "# axis labels\n",
    "plt.title('ROC Curve with Random Forest')\n",
    "plt.xlabel('False Positive Rate')\n",
    "plt.ylabel('True Positive Rate')\n",
    "# show the legend\n",
    "plt.legend()\n",
    "# show the plot\n",
    "plt.show()"
   ]
  },
  {
   "cell_type": "code",
   "execution_count": null,
   "metadata": {},
   "outputs": [],
   "source": []
  },
  {
   "cell_type": "markdown",
   "metadata": {},
   "source": [
    "## Gaussian NB"
   ]
  },
  {
   "cell_type": "code",
   "execution_count": 229,
   "metadata": {},
   "outputs": [],
   "source": [
    "from sklearn.naive_bayes import GaussianNB\n",
    "gnb = GaussianNB()"
   ]
  },
  {
   "cell_type": "code",
   "execution_count": 230,
   "metadata": {},
   "outputs": [
    {
     "name": "stdout",
     "output_type": "stream",
     "text": [
      "0.756294058408862\n"
     ]
    }
   ],
   "source": [
    "clf = gnb.fit(X_train, y_train)\n",
    "y_pred=clf.predict(X_test)\n",
    "print(clf.score(X_test,y_test))"
   ]
  },
  {
   "cell_type": "code",
   "execution_count": 231,
   "metadata": {},
   "outputs": [
    {
     "name": "stdout",
     "output_type": "stream",
     "text": [
      "0.756294058408862\n"
     ]
    }
   ],
   "source": [
    "y_train_pred=clf.predict(X_train)\n",
    "y_preds_final =clf.predict(X_test)\n",
    "print(accuracy_score(y_test,y_preds_final))"
   ]
  },
  {
   "cell_type": "code",
   "execution_count": 232,
   "metadata": {},
   "outputs": [
    {
     "name": "stdout",
     "output_type": "stream",
     "text": [
      "\tClassification Report of Gaussian NB\n",
      "              precision    recall  f1-score   support\n",
      "\n",
      "         0.0       0.34      0.18      0.23       207\n",
      "         1.0       0.81      0.91      0.86       786\n",
      "\n",
      "    accuracy                           0.76       993\n",
      "   macro avg       0.57      0.54      0.54       993\n",
      "weighted avg       0.71      0.76      0.73       993\n",
      "\n",
      "Train Accuracy:\t0.846\n",
      "Test Accuracy:\t 0.756\n"
     ]
    }
   ],
   "source": [
    "print('\\tClassification Report of Gaussian NB')\n",
    "print(metrics.classification_report(y_test,y_preds_final))\n",
    "\n",
    "print('Train Accuracy:\\t{0:.3f}'.format(accuracy_score(y_train_pred, y_train)))\n",
    "print('Test Accuracy:\\t {0:.3f}'.format(accuracy_score(y_pred, y_test)))"
   ]
  },
  {
   "cell_type": "code",
   "execution_count": 233,
   "metadata": {},
   "outputs": [
    {
     "name": "stdout",
     "output_type": "stream",
     "text": [
      "Number of mislabeled points out of a total 993 points : 242\n"
     ]
    }
   ],
   "source": [
    "print(\"Number of mislabeled points out of a total %d points : %d\" %(X_test.shape[0], (y_test != y_pred).sum()))"
   ]
  },
  {
   "cell_type": "code",
   "execution_count": 234,
   "metadata": {},
   "outputs": [
    {
     "name": "stdout",
     "output_type": "stream",
     "text": [
      "Gaussian NB: ROC AUC Score=0.632\n"
     ]
    },
    {
     "data": {
      "image/png": "[encoded data removed]",
      "text/plain": [
       "<Figure size 432x288 with 1 Axes>"
      ]
     },
     "metadata": {
      "needs_background": "light"
     },
     "output_type": "display_data"
    }
   ],
   "source": [
    "lr_probs = clf.predict_proba(X_test)\n",
    "\n",
    "# keep probabilities for the positive outcome only\n",
    "lr_probs = lr_probs[:, 1]\n",
    "\n",
    "# calculate scores\n",
    "lr_auc = roc_auc_score(y_test, lr_probs)\n",
    "# summarize scores\n",
    "print('Gaussian NB: ROC AUC Score=%.3f' % (lr_auc))\n",
    "\n",
    "# calculate roc curves\n",
    "lr_fpr, lr_tpr, _ = roc_curve(y_test, lr_probs)\n",
    "\n",
    "# plot the roc curve for the model\n",
    "plt.plot(lr_fpr, lr_tpr, label='Gaussian NB')\n",
    "plt.plot([0,1], [0,1], ls='--')\n",
    "# axis labels\n",
    "plt.title('ROC Curve with Gaussian NB')\n",
    "plt.xlabel('False Positive Rate')\n",
    "plt.ylabel('True Positive Rate')\n",
    "# show the legend\n",
    "plt.legend()\n",
    "# show the plot\n",
    "plt.show()"
   ]
  },
  {
   "cell_type": "code",
   "execution_count": 402,
   "metadata": {},
   "outputs": [
    {
     "name": "stdout",
     "output_type": "stream",
     "text": [
      "HoneyBee1\n",
      "HoneyBee2\n",
      "Bumblebee1\n"
     ]
    },
    {
     "data": {
      "image/png": "[encoded data removed]",
      "text/plain": [
       "<Figure size 432x288 with 1 Axes>"
      ]
     },
     "metadata": {
      "needs_background": "light"
     },
     "output_type": "display_data"
    },
    {
     "data": {
      "image/png": "[encoded data removed]",
      "text/plain": [
       "<Figure size 432x288 with 1 Axes>"
      ]
     },
     "metadata": {
      "needs_background": "light"
     },
     "output_type": "display_data"
    },
    {
     "data": {
      "image/png": "[encoded data removed]",
      "text/plain": [
       "<Figure size 432x288 with 1 Axes>"
      ]
     },
     "metadata": {
      "needs_background": "light"
     },
     "output_type": "display_data"
    }
   ],
   "source": [
    "def get_image(filenm, root=''):\n",
    "    print(filenm)\n",
    "    filename = \"{}.png\".format(filenm)\n",
    "    file_path = os.path.join(root, filename)\n",
    "    img = io.imread(file_path)\n",
    "    return np.array(img)\n",
    "\n",
    "Honeybee1=get_image('HoneyBee1')\n",
    "Honeybee2=get_image('HoneyBee2')\n",
    "Bumblebee1=get_image('Bumblebee1')\n",
    "\n",
    "plt.imshow(Honeybee1)\n",
    "plt.show()\n",
    "plt.imshow(Honeybee2)\n",
    "plt.show()\n",
    "plt.imshow(Bumblebee1)\n",
    "plt.show()"
   ]
  },
  {
   "cell_type": "code",
   "execution_count": 403,
   "metadata": {},
   "outputs": [
    {
     "data": {
      "text/plain": [
       "(18000,)"
      ]
     },
     "execution_count": 403,
     "metadata": {},
     "output_type": "execute_result"
    }
   ],
   "source": [
    "hb1=features(honeybee1_to_gray)\n",
    "hb1.shape"
   ]
  },
  {
   "cell_type": "code",
   "execution_count": 404,
   "metadata": {},
   "outputs": [
    {
     "data": {
      "text/plain": [
       "(100, 99)"
      ]
     },
     "execution_count": 404,
     "metadata": {},
     "output_type": "execute_result"
    }
   ],
   "source": [
    "honeybee1_to_gray.shape"
   ]
  },
  {
   "cell_type": "code",
   "execution_count": 405,
   "metadata": {},
   "outputs": [],
   "source": [
    "def test_function(image):\n",
    "    image_to_gray=rgb2grey(image)\n",
    "    image_to_gray=rescale(image_to_gray, 0.5)\n",
    "    \n",
    "    plt.imshow(image_to_gray)\n",
    "    plt.show()\n",
    "        \n",
    "    features_list = []\n",
    "\n",
    "    image_features = features(image_to_gray)\n",
    "    features_list.append(image_features)\n",
    "    \n",
    "    # convert list of arrays into a matrix\n",
    "    honeybee1_matrix = np.array(features_list)\n",
    "    pca1=honeybee1_matrix[::-1][:,:500]\n",
    "\n",
    "    return pca1"
   ]
  },
  {
   "cell_type": "code",
   "execution_count": 406,
   "metadata": {},
   "outputs": [
    {
     "data": {
      "image/png": "[encoded data removed]",
      "text/plain": [
       "<Figure size 432x288 with 1 Axes>"
      ]
     },
     "metadata": {
      "needs_background": "light"
     },
     "output_type": "display_data"
    },
    {
     "data": {
      "image/png": "[encoded data removed]",
      "text/plain": [
       "<Figure size 432x288 with 1 Axes>"
      ]
     },
     "metadata": {
      "needs_background": "light"
     },
     "output_type": "display_data"
    },
    {
     "data": {
      "image/png": "[encoded data removed]",
      "text/plain": [
       "<Figure size 432x288 with 1 Axes>"
      ]
     },
     "metadata": {
      "needs_background": "light"
     },
     "output_type": "display_data"
    }
   ],
   "source": [
    "honeybee1_for_pca=test_function(Honeybee1)\n",
    "honeybee2_for_pca=test_function(Honeybee2)\n",
    "bumblebee1_for_pca=test_function(Bumblebee1)"
   ]
  },
  {
   "cell_type": "code",
   "execution_count": 407,
   "metadata": {},
   "outputs": [],
   "source": [
    "gnb=GaussianNB()"
   ]
  },
  {
   "cell_type": "code",
   "execution_count": 408,
   "metadata": {},
   "outputs": [
    {
     "name": "stdout",
     "output_type": "stream",
     "text": [
      "[1.] [1.] [1.]\n"
     ]
    }
   ],
   "source": [
    "clf= gnb.fit(X_train, y_train)\n",
    "\n",
    "\n",
    "hb1= clf.predict(honeybee1_for_pca)\n",
    "hb2= clf.predict(honeybee2_for_pca)\n",
    "hb3= clf.predict(bumblebee1_for_pca)\n",
    "\n",
    "print(hb1, hb2, hb3)\n",
    "# print(clf.score(X_test,y_test))\n",
    "# print(clf.score(X_test,y_test))"
   ]
  },
  {
   "cell_type": "code",
   "execution_count": null,
   "metadata": {},
   "outputs": [],
   "source": []
  },
  {
   "cell_type": "code",
   "execution_count": null,
   "metadata": {},
   "outputs": [],
   "source": []
  },
  {
   "cell_type": "markdown",
   "metadata": {},
   "source": [
    "## SVM"
   ]
  },
  {
   "cell_type": "code",
   "execution_count": 15,
   "metadata": {},
   "outputs": [
    {
     "name": "stdout",
     "output_type": "stream",
     "text": [
      "0.798590130916415\n"
     ]
    }
   ],
   "source": [
    "model=SVC()\n",
    "model.fit(X_train,y_train)\n",
    "y_pred = model.predict(X_test)\n",
    "print(model.score(X_test,y_test))"
   ]
  },
  {
   "cell_type": "code",
   "execution_count": 60,
   "metadata": {},
   "outputs": [],
   "source": [
    "grid_param={'kernel':('linear','rbf'),'C':[0.1,1]}"
   ]
  },
  {
   "cell_type": "code",
   "execution_count": 61,
   "metadata": {},
   "outputs": [
    {
     "name": "stdout",
     "output_type": "stream",
     "text": [
      "Best Score 0.8835005936083803 with {'C': 1, 'kernel': 'rbf'} \n",
      "\n"
     ]
    }
   ],
   "source": [
    "clf=GridSearchCV(SVC(),grid_param,scoring=f1_scorer)\n",
    "clf.fit(X_train,y_train)\n",
    "print('Best Score',clf.best_score_,'with',clf.best_params_,'\\n')\n",
    "x=clf.best_params_\n"
   ]
  },
  {
   "cell_type": "code",
   "execution_count": 77,
   "metadata": {},
   "outputs": [
    {
     "data": {
      "text/plain": [
       "0.798590130916415"
      ]
     },
     "execution_count": 77,
     "metadata": {},
     "output_type": "execute_result"
    }
   ],
   "source": [
    "model=SVC(kernel=x['kernel'],C=x['C'],random_state=27,probability=True)\n",
    "\n",
    "model.fit(X_train,y_train)\n",
    "model.score(X_test,y_test)"
   ]
  },
  {
   "cell_type": "code",
   "execution_count": 78,
   "metadata": {},
   "outputs": [
    {
     "name": "stdout",
     "output_type": "stream",
     "text": [
      "\tClassification Report of best feature SVM\n",
      "              precision    recall  f1-score   support\n",
      "\n",
      "         0.0       1.00      0.03      0.07       207\n",
      "         1.0       0.80      1.00      0.89       786\n",
      "\n",
      "    accuracy                           0.80       993\n",
      "   macro avg       0.90      0.52      0.48       993\n",
      "weighted avg       0.84      0.80      0.72       993\n",
      "\n",
      "Train Accuracy:\t0.868\n",
      "Test Accuracy:\t 0.799\n"
     ]
    }
   ],
   "source": [
    "y_train_pred=model.predict(X_train)\n",
    "y_pred = model.predict(X_test)\n",
    "\n",
    "print('\\tClassification Report of best feature SVM')\n",
    "print(metrics.classification_report(y_test,y_pred))\n",
    "\n",
    "print('Train Accuracy:\\t{0:.3f}'.format(accuracy_score(y_train_pred, y_train)))\n",
    "print('Test Accuracy:\\t {0:.3f}'.format(accuracy_score(y_pred, y_test)))"
   ]
  },
  {
   "cell_type": "code",
   "execution_count": 81,
   "metadata": {},
   "outputs": [
    {
     "name": "stdout",
     "output_type": "stream",
     "text": [
      "SVM: ROC AUC Score=0.712\n"
     ]
    },
    {
     "data": {
      "image/png": "[encoded data removed]",
      "text/plain": [
       "<Figure size 432x288 with 1 Axes>"
      ]
     },
     "metadata": {
      "needs_background": "light"
     },
     "output_type": "display_data"
    }
   ],
   "source": [
    "lr_probs = model.predict_proba(X_test)\n",
    "\n",
    "# keep probabilities for the positive outcome only\n",
    "lr_probs = lr_probs[:, 1]\n",
    "\n",
    "# calculate scores\n",
    "lr_auc = roc_auc_score(y_test, lr_probs)\n",
    "# summarize scores\n",
    "print('SVM: ROC AUC Score=%.3f' % (lr_auc))\n",
    "\n",
    "# calculate roc curves\n",
    "lr_fpr, lr_tpr, _ = roc_curve(y_test, lr_probs)\n",
    "\n",
    "# plot the roc curve for the model\n",
    "plt.plot(lr_fpr, lr_tpr, label='SVM')\n",
    "plt.plot([0,1], [0,1], ls='--')\n",
    "# axis labels\n",
    "plt.title('ROC Curve with SVM')\n",
    "plt.xlabel('False Positive Rate')\n",
    "plt.ylabel('True Positive Rate')\n",
    "# show the legend\n",
    "plt.legend()\n",
    "# show the plot\n",
    "plt.show()"
   ]
  },
  {
   "cell_type": "code",
   "execution_count": null,
   "metadata": {},
   "outputs": [],
   "source": []
  },
  {
   "cell_type": "code",
   "execution_count": 365,
   "metadata": {},
   "outputs": [
    {
     "data": {
      "text/plain": [
       "0.798590130916415"
      ]
     },
     "execution_count": 365,
     "metadata": {},
     "output_type": "execute_result"
    }
   ],
   "source": [
    "model=SVC(kernel=x['kernel'],C=x['C'],random_state=27,probability=True)\n",
    "\n",
    "model.fit(X_train,y_train)\n",
    "model.score(X_test,y_test)"
   ]
  },
  {
   "cell_type": "code",
   "execution_count": 409,
   "metadata": {},
   "outputs": [
    {
     "name": "stdout",
     "output_type": "stream",
     "text": [
      "[1.] [1.] [1.]\n"
     ]
    }
   ],
   "source": [
    "hb1= model.predict(honeybee1_for_pca)\n",
    "hb2= model.predict(honeybee2_for_pca)\n",
    "hb3= model.predict(bumblebee1_for_pca)\n",
    "\n",
    "\n",
    "print(hb1, hb2, hb3)"
   ]
  },
  {
   "cell_type": "code",
   "execution_count": null,
   "metadata": {},
   "outputs": [],
   "source": []
  },
  {
   "cell_type": "code",
   "execution_count": null,
   "metadata": {},
   "outputs": [],
   "source": []
  },
  {
   "cell_type": "code",
   "execution_count": null,
   "metadata": {},
   "outputs": [],
   "source": []
  },
  {
   "cell_type": "code",
   "execution_count": null,
   "metadata": {},
   "outputs": [],
   "source": []
  },
  {
   "cell_type": "markdown",
   "metadata": {},
   "source": [
    "### Lin C=1 has highest f1 "
   ]
  },
  {
   "cell_type": "code",
   "execution_count": null,
   "metadata": {},
   "outputs": [],
   "source": [
    "model=SVC(kernel='linear',C=1,random_state=27)\n",
    "\n",
    "\n",
    "model.fit(X_train,y_train)\n",
    "model.score(X_test,y_test)"
   ]
  },
  {
   "cell_type": "code",
   "execution_count": 18,
   "metadata": {},
   "outputs": [
    {
     "name": "stdout",
     "output_type": "stream",
     "text": [
      "\tClassification Report of best feature\n",
      "              precision    recall  f1-score   support\n",
      "\n",
      "         0.0       0.34      0.28      0.30       207\n",
      "         1.0       0.82      0.86      0.84       786\n",
      "\n",
      "    accuracy                           0.74       993\n",
      "   macro avg       0.58      0.57      0.57       993\n",
      "weighted avg       0.72      0.74      0.73       993\n",
      "\n",
      "Train Accuracy:\t0.850\n",
      "Test Accuracy:\t 0.737\n"
     ]
    }
   ],
   "source": [
    "y_train_pred=model.predict(X_train)\n",
    "y_pred = model.predict(X_test)\n",
    "\n",
    "print('\\tClassification Report of best feature')\n",
    "print(metrics.classification_report(y_test,y_pred))\n",
    "\n",
    "print('Train Accuracy:\\t{0:.3f}'.format(accuracy_score(y_train_pred, y_train)))\n",
    "print('Test Accuracy:\\t {0:.3f}'.format(accuracy_score(y_pred, y_test)))"
   ]
  },
  {
   "cell_type": "code",
   "execution_count": null,
   "metadata": {},
   "outputs": [],
   "source": []
  }
 ],
 "metadata": {
  "colab": {
   "collapsed_sections": [],
   "name": "Bee Classification Assignment.ipynb",
   "provenance": []
  },
  "kernelspec": {
   "display_name": "Python 3",
   "language": "python",
   "name": "python3"
  },
  "language_info": {
   "codemirror_mode": {
    "name": "ipython",
    "version": 3
   },
   "file_extension": ".py",
   "mimetype": "text/x-python",
   "name": "python",
   "nbconvert_exporter": "python",
   "pygments_lexer": "ipython3",
   "version": "3.8.2"
  }
 },
 "nbformat": 4,
 "nbformat_minor": 1
}
